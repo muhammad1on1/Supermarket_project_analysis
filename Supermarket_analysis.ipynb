{
  "nbformat": 4,
  "nbformat_minor": 0,
  "metadata": {
    "colab": {
      "name": "Supermarket_analysis.ipynb",
      "provenance": [],
      "authorship_tag": "ABX9TyMpIIfb5E3MKAr4uwa5OAs/",
      "include_colab_link": true
    },
    "kernelspec": {
      "name": "python3",
      "display_name": "Python 3"
    },
    "language_info": {
      "name": "python"
    }
  },
  "cells": [
    {
      "cell_type": "markdown",
      "metadata": {
        "id": "view-in-github",
        "colab_type": "text"
      },
      "source": [
        "<a href=\"https://colab.research.google.com/github/muhammad1on1/Supermarket_project_analysis/blob/main/Supermarket_analysis.ipynb\" target=\"_parent\"><img src=\"https://colab.research.google.com/assets/colab-badge.svg\" alt=\"Open In Colab\"/></a>"
      ]
    },
    {
      "cell_type": "code",
      "execution_count": 526,
      "metadata": {
        "id": "ABbyi_0K1-BO"
      },
      "outputs": [],
      "source": [
        "import pandas as pd\n",
        "import sqlite3 as sql\n",
        "import matplotlib.pyplot as plt"
      ]
    },
    {
      "cell_type": "markdown",
      "source": [
        "17 ta ustun haqida ma'lumot:\n",
        "**Branch** - Fillial (...**A**(Yangon),...**B**(Mandalay),...**C**(Naypyitaw)...),\n",
        "**City** - Joylashgan shahar,\n",
        "**Customer type** - Mijoz turui - *Member*(Maxsus klent - karta ochtirgan), *Normal* - Oddiy klent,\n",
        "**Gender** - Jinsi - Female(), Male(), \n",
        "**Product line** - Sotib olingan mahsulot qaysi bo'limga tegishli:  Electronic accessories, Fashion accessories, Food and beverages, Health and beauty, Home and lifestyle, Sports and travel\n",
        "**Unit price** - Bir birlik mahsulot narxi\n",
        "**Quantity** - Sotib olingan mahsulot soni\n",
        "**Tax** - 5% li Soliq\n",
        "**Total** - Soliqni qo'shgan holda  hisoblangan ummiy narx\n",
        "**Date** - Sana\n",
        "**Payment** - To'lov turi (*Cash*-naqd, *Credit*-kredit karta, *Ewallet*-elektron hamyon)\n",
        "**Gross income** - yalpi daromad\n",
        "**COGS** - Tannarxi\n",
        "**Rating** - Reyting"
      ],
      "metadata": {
        "id": "3lMdqpnPo0Fw"
      }
    },
    {
      "cell_type": "code",
      "source": [
        "data = pd.read_csv('sotuvlar.csv')\n",
        "# data = data.sort_values(by=\"Date\", key=pd.to_datetime)\n",
        "# data[\"Date\"] = pd.to_datetime(data.Date)\n",
        "data.head()"
      ],
      "metadata": {
        "colab": {
          "base_uri": "https://localhost:8080/",
          "height": 392
        },
        "id": "agBGEqnX2NdU",
        "outputId": "de5fb18a-71d2-49a6-f345-5ad30a1d9404"
      },
      "execution_count": 527,
      "outputs": [
        {
          "output_type": "execute_result",
          "data": {
            "text/plain": [
              "    Invoice ID Branch       City Customer type  Gender  \\\n",
              "0  750-67-8428      A     Yangon        Member  Female   \n",
              "1  226-31-3081      C  Naypyitaw        Normal  Female   \n",
              "2  631-41-3108      A     Yangon        Normal    Male   \n",
              "3  123-19-1176      A     Yangon        Member    Male   \n",
              "4  373-73-7910      A     Yangon        Normal    Male   \n",
              "\n",
              "             Product line  Unit price  Quantity   Tax 5%     Total       Date  \\\n",
              "0       Health and beauty       74.69         7  26.1415  548.9715   1/5/2019   \n",
              "1  Electronic accessories       15.28         5   3.8200   80.2200   3/8/2019   \n",
              "2      Home and lifestyle       46.33         7  16.2155  340.5255   3/3/2019   \n",
              "3       Health and beauty       58.22         8  23.2880  489.0480  1/27/2019   \n",
              "4       Sports and travel       86.31         7  30.2085  634.3785   2/8/2019   \n",
              "\n",
              "    Time      Payment    cogs  gross margin percentage  gross income  Rating  \n",
              "0  13:08      Ewallet  522.83                 4.761905       26.1415     9.1  \n",
              "1  10:29         Cash   76.40                 4.761905        3.8200     9.6  \n",
              "2  13:23  Credit card  324.31                 4.761905       16.2155     7.4  \n",
              "3  20:33      Ewallet  465.76                 4.761905       23.2880     8.4  \n",
              "4  10:37      Ewallet  604.17                 4.761905       30.2085     5.3  "
            ],
            "text/html": [
              "\n",
              "  <div id=\"df-a69f338b-4a39-41fc-a763-24a4693c35c4\">\n",
              "    <div class=\"colab-df-container\">\n",
              "      <div>\n",
              "<style scoped>\n",
              "    .dataframe tbody tr th:only-of-type {\n",
              "        vertical-align: middle;\n",
              "    }\n",
              "\n",
              "    .dataframe tbody tr th {\n",
              "        vertical-align: top;\n",
              "    }\n",
              "\n",
              "    .dataframe thead th {\n",
              "        text-align: right;\n",
              "    }\n",
              "</style>\n",
              "<table border=\"1\" class=\"dataframe\">\n",
              "  <thead>\n",
              "    <tr style=\"text-align: right;\">\n",
              "      <th></th>\n",
              "      <th>Invoice ID</th>\n",
              "      <th>Branch</th>\n",
              "      <th>City</th>\n",
              "      <th>Customer type</th>\n",
              "      <th>Gender</th>\n",
              "      <th>Product line</th>\n",
              "      <th>Unit price</th>\n",
              "      <th>Quantity</th>\n",
              "      <th>Tax 5%</th>\n",
              "      <th>Total</th>\n",
              "      <th>Date</th>\n",
              "      <th>Time</th>\n",
              "      <th>Payment</th>\n",
              "      <th>cogs</th>\n",
              "      <th>gross margin percentage</th>\n",
              "      <th>gross income</th>\n",
              "      <th>Rating</th>\n",
              "    </tr>\n",
              "  </thead>\n",
              "  <tbody>\n",
              "    <tr>\n",
              "      <th>0</th>\n",
              "      <td>750-67-8428</td>\n",
              "      <td>A</td>\n",
              "      <td>Yangon</td>\n",
              "      <td>Member</td>\n",
              "      <td>Female</td>\n",
              "      <td>Health and beauty</td>\n",
              "      <td>74.69</td>\n",
              "      <td>7</td>\n",
              "      <td>26.1415</td>\n",
              "      <td>548.9715</td>\n",
              "      <td>1/5/2019</td>\n",
              "      <td>13:08</td>\n",
              "      <td>Ewallet</td>\n",
              "      <td>522.83</td>\n",
              "      <td>4.761905</td>\n",
              "      <td>26.1415</td>\n",
              "      <td>9.1</td>\n",
              "    </tr>\n",
              "    <tr>\n",
              "      <th>1</th>\n",
              "      <td>226-31-3081</td>\n",
              "      <td>C</td>\n",
              "      <td>Naypyitaw</td>\n",
              "      <td>Normal</td>\n",
              "      <td>Female</td>\n",
              "      <td>Electronic accessories</td>\n",
              "      <td>15.28</td>\n",
              "      <td>5</td>\n",
              "      <td>3.8200</td>\n",
              "      <td>80.2200</td>\n",
              "      <td>3/8/2019</td>\n",
              "      <td>10:29</td>\n",
              "      <td>Cash</td>\n",
              "      <td>76.40</td>\n",
              "      <td>4.761905</td>\n",
              "      <td>3.8200</td>\n",
              "      <td>9.6</td>\n",
              "    </tr>\n",
              "    <tr>\n",
              "      <th>2</th>\n",
              "      <td>631-41-3108</td>\n",
              "      <td>A</td>\n",
              "      <td>Yangon</td>\n",
              "      <td>Normal</td>\n",
              "      <td>Male</td>\n",
              "      <td>Home and lifestyle</td>\n",
              "      <td>46.33</td>\n",
              "      <td>7</td>\n",
              "      <td>16.2155</td>\n",
              "      <td>340.5255</td>\n",
              "      <td>3/3/2019</td>\n",
              "      <td>13:23</td>\n",
              "      <td>Credit card</td>\n",
              "      <td>324.31</td>\n",
              "      <td>4.761905</td>\n",
              "      <td>16.2155</td>\n",
              "      <td>7.4</td>\n",
              "    </tr>\n",
              "    <tr>\n",
              "      <th>3</th>\n",
              "      <td>123-19-1176</td>\n",
              "      <td>A</td>\n",
              "      <td>Yangon</td>\n",
              "      <td>Member</td>\n",
              "      <td>Male</td>\n",
              "      <td>Health and beauty</td>\n",
              "      <td>58.22</td>\n",
              "      <td>8</td>\n",
              "      <td>23.2880</td>\n",
              "      <td>489.0480</td>\n",
              "      <td>1/27/2019</td>\n",
              "      <td>20:33</td>\n",
              "      <td>Ewallet</td>\n",
              "      <td>465.76</td>\n",
              "      <td>4.761905</td>\n",
              "      <td>23.2880</td>\n",
              "      <td>8.4</td>\n",
              "    </tr>\n",
              "    <tr>\n",
              "      <th>4</th>\n",
              "      <td>373-73-7910</td>\n",
              "      <td>A</td>\n",
              "      <td>Yangon</td>\n",
              "      <td>Normal</td>\n",
              "      <td>Male</td>\n",
              "      <td>Sports and travel</td>\n",
              "      <td>86.31</td>\n",
              "      <td>7</td>\n",
              "      <td>30.2085</td>\n",
              "      <td>634.3785</td>\n",
              "      <td>2/8/2019</td>\n",
              "      <td>10:37</td>\n",
              "      <td>Ewallet</td>\n",
              "      <td>604.17</td>\n",
              "      <td>4.761905</td>\n",
              "      <td>30.2085</td>\n",
              "      <td>5.3</td>\n",
              "    </tr>\n",
              "  </tbody>\n",
              "</table>\n",
              "</div>\n",
              "      <button class=\"colab-df-convert\" onclick=\"convertToInteractive('df-a69f338b-4a39-41fc-a763-24a4693c35c4')\"\n",
              "              title=\"Convert this dataframe to an interactive table.\"\n",
              "              style=\"display:none;\">\n",
              "        \n",
              "  <svg xmlns=\"http://www.w3.org/2000/svg\" height=\"24px\"viewBox=\"0 0 24 24\"\n",
              "       width=\"24px\">\n",
              "    <path d=\"M0 0h24v24H0V0z\" fill=\"none\"/>\n",
              "    <path d=\"M18.56 5.44l.94 2.06.94-2.06 2.06-.94-2.06-.94-.94-2.06-.94 2.06-2.06.94zm-11 1L8.5 8.5l.94-2.06 2.06-.94-2.06-.94L8.5 2.5l-.94 2.06-2.06.94zm10 10l.94 2.06.94-2.06 2.06-.94-2.06-.94-.94-2.06-.94 2.06-2.06.94z\"/><path d=\"M17.41 7.96l-1.37-1.37c-.4-.4-.92-.59-1.43-.59-.52 0-1.04.2-1.43.59L10.3 9.45l-7.72 7.72c-.78.78-.78 2.05 0 2.83L4 21.41c.39.39.9.59 1.41.59.51 0 1.02-.2 1.41-.59l7.78-7.78 2.81-2.81c.8-.78.8-2.07 0-2.86zM5.41 20L4 18.59l7.72-7.72 1.47 1.35L5.41 20z\"/>\n",
              "  </svg>\n",
              "      </button>\n",
              "      \n",
              "  <style>\n",
              "    .colab-df-container {\n",
              "      display:flex;\n",
              "      flex-wrap:wrap;\n",
              "      gap: 12px;\n",
              "    }\n",
              "\n",
              "    .colab-df-convert {\n",
              "      background-color: #E8F0FE;\n",
              "      border: none;\n",
              "      border-radius: 50%;\n",
              "      cursor: pointer;\n",
              "      display: none;\n",
              "      fill: #1967D2;\n",
              "      height: 32px;\n",
              "      padding: 0 0 0 0;\n",
              "      width: 32px;\n",
              "    }\n",
              "\n",
              "    .colab-df-convert:hover {\n",
              "      background-color: #E2EBFA;\n",
              "      box-shadow: 0px 1px 2px rgba(60, 64, 67, 0.3), 0px 1px 3px 1px rgba(60, 64, 67, 0.15);\n",
              "      fill: #174EA6;\n",
              "    }\n",
              "\n",
              "    [theme=dark] .colab-df-convert {\n",
              "      background-color: #3B4455;\n",
              "      fill: #D2E3FC;\n",
              "    }\n",
              "\n",
              "    [theme=dark] .colab-df-convert:hover {\n",
              "      background-color: #434B5C;\n",
              "      box-shadow: 0px 1px 3px 1px rgba(0, 0, 0, 0.15);\n",
              "      filter: drop-shadow(0px 1px 2px rgba(0, 0, 0, 0.3));\n",
              "      fill: #FFFFFF;\n",
              "    }\n",
              "  </style>\n",
              "\n",
              "      <script>\n",
              "        const buttonEl =\n",
              "          document.querySelector('#df-a69f338b-4a39-41fc-a763-24a4693c35c4 button.colab-df-convert');\n",
              "        buttonEl.style.display =\n",
              "          google.colab.kernel.accessAllowed ? 'block' : 'none';\n",
              "\n",
              "        async function convertToInteractive(key) {\n",
              "          const element = document.querySelector('#df-a69f338b-4a39-41fc-a763-24a4693c35c4');\n",
              "          const dataTable =\n",
              "            await google.colab.kernel.invokeFunction('convertToInteractive',\n",
              "                                                     [key], {});\n",
              "          if (!dataTable) return;\n",
              "\n",
              "          const docLinkHtml = 'Like what you see? Visit the ' +\n",
              "            '<a target=\"_blank\" href=https://colab.research.google.com/notebooks/data_table.ipynb>data table notebook</a>'\n",
              "            + ' to learn more about interactive tables.';\n",
              "          element.innerHTML = '';\n",
              "          dataTable['output_type'] = 'display_data';\n",
              "          await google.colab.output.renderOutput(dataTable, element);\n",
              "          const docLink = document.createElement('div');\n",
              "          docLink.innerHTML = docLinkHtml;\n",
              "          element.appendChild(docLink);\n",
              "        }\n",
              "      </script>\n",
              "    </div>\n",
              "  </div>\n",
              "  "
            ]
          },
          "metadata": {},
          "execution_count": 527
        }
      ]
    },
    {
      "cell_type": "code",
      "source": [
        "del data['Invoice ID']\n",
        "del data['Time']\n",
        "# del data['Date']\n",
        "# del data['gross income']\n",
        "del data['gross margin percentage']\n",
        "data.reset_index()\n",
        "data.head(10)"
      ],
      "metadata": {
        "colab": {
          "base_uri": "https://localhost:8080/",
          "height": 598
        },
        "id": "kYRYMcfHS6RO",
        "outputId": "44ff1c98-1d2d-4167-aa60-e9817dc35a17"
      },
      "execution_count": 528,
      "outputs": [
        {
          "output_type": "execute_result",
          "data": {
            "text/plain": [
              "  Branch       City Customer type  Gender            Product line  Unit price  \\\n",
              "0      A     Yangon        Member  Female       Health and beauty       74.69   \n",
              "1      C  Naypyitaw        Normal  Female  Electronic accessories       15.28   \n",
              "2      A     Yangon        Normal    Male      Home and lifestyle       46.33   \n",
              "3      A     Yangon        Member    Male       Health and beauty       58.22   \n",
              "4      A     Yangon        Normal    Male       Sports and travel       86.31   \n",
              "5      C  Naypyitaw        Normal    Male  Electronic accessories       85.39   \n",
              "6      A     Yangon        Member  Female  Electronic accessories       68.84   \n",
              "7      C  Naypyitaw        Normal  Female      Home and lifestyle       73.56   \n",
              "8      A     Yangon        Member  Female       Health and beauty       36.26   \n",
              "9      B   Mandalay        Member  Female      Food and beverages       54.84   \n",
              "\n",
              "   Quantity   Tax 5%     Total       Date      Payment    cogs  gross income  \\\n",
              "0         7  26.1415  548.9715   1/5/2019      Ewallet  522.83       26.1415   \n",
              "1         5   3.8200   80.2200   3/8/2019         Cash   76.40        3.8200   \n",
              "2         7  16.2155  340.5255   3/3/2019  Credit card  324.31       16.2155   \n",
              "3         8  23.2880  489.0480  1/27/2019      Ewallet  465.76       23.2880   \n",
              "4         7  30.2085  634.3785   2/8/2019      Ewallet  604.17       30.2085   \n",
              "5         7  29.8865  627.6165  3/25/2019      Ewallet  597.73       29.8865   \n",
              "6         6  20.6520  433.6920  2/25/2019      Ewallet  413.04       20.6520   \n",
              "7        10  36.7800  772.3800  2/24/2019      Ewallet  735.60       36.7800   \n",
              "8         2   3.6260   76.1460  1/10/2019  Credit card   72.52        3.6260   \n",
              "9         3   8.2260  172.7460  2/20/2019  Credit card  164.52        8.2260   \n",
              "\n",
              "   Rating  \n",
              "0     9.1  \n",
              "1     9.6  \n",
              "2     7.4  \n",
              "3     8.4  \n",
              "4     5.3  \n",
              "5     4.1  \n",
              "6     5.8  \n",
              "7     8.0  \n",
              "8     7.2  \n",
              "9     5.9  "
            ],
            "text/html": [
              "\n",
              "  <div id=\"df-a9b0509e-5f58-47f1-b39b-94097b71a6a3\">\n",
              "    <div class=\"colab-df-container\">\n",
              "      <div>\n",
              "<style scoped>\n",
              "    .dataframe tbody tr th:only-of-type {\n",
              "        vertical-align: middle;\n",
              "    }\n",
              "\n",
              "    .dataframe tbody tr th {\n",
              "        vertical-align: top;\n",
              "    }\n",
              "\n",
              "    .dataframe thead th {\n",
              "        text-align: right;\n",
              "    }\n",
              "</style>\n",
              "<table border=\"1\" class=\"dataframe\">\n",
              "  <thead>\n",
              "    <tr style=\"text-align: right;\">\n",
              "      <th></th>\n",
              "      <th>Branch</th>\n",
              "      <th>City</th>\n",
              "      <th>Customer type</th>\n",
              "      <th>Gender</th>\n",
              "      <th>Product line</th>\n",
              "      <th>Unit price</th>\n",
              "      <th>Quantity</th>\n",
              "      <th>Tax 5%</th>\n",
              "      <th>Total</th>\n",
              "      <th>Date</th>\n",
              "      <th>Payment</th>\n",
              "      <th>cogs</th>\n",
              "      <th>gross income</th>\n",
              "      <th>Rating</th>\n",
              "    </tr>\n",
              "  </thead>\n",
              "  <tbody>\n",
              "    <tr>\n",
              "      <th>0</th>\n",
              "      <td>A</td>\n",
              "      <td>Yangon</td>\n",
              "      <td>Member</td>\n",
              "      <td>Female</td>\n",
              "      <td>Health and beauty</td>\n",
              "      <td>74.69</td>\n",
              "      <td>7</td>\n",
              "      <td>26.1415</td>\n",
              "      <td>548.9715</td>\n",
              "      <td>1/5/2019</td>\n",
              "      <td>Ewallet</td>\n",
              "      <td>522.83</td>\n",
              "      <td>26.1415</td>\n",
              "      <td>9.1</td>\n",
              "    </tr>\n",
              "    <tr>\n",
              "      <th>1</th>\n",
              "      <td>C</td>\n",
              "      <td>Naypyitaw</td>\n",
              "      <td>Normal</td>\n",
              "      <td>Female</td>\n",
              "      <td>Electronic accessories</td>\n",
              "      <td>15.28</td>\n",
              "      <td>5</td>\n",
              "      <td>3.8200</td>\n",
              "      <td>80.2200</td>\n",
              "      <td>3/8/2019</td>\n",
              "      <td>Cash</td>\n",
              "      <td>76.40</td>\n",
              "      <td>3.8200</td>\n",
              "      <td>9.6</td>\n",
              "    </tr>\n",
              "    <tr>\n",
              "      <th>2</th>\n",
              "      <td>A</td>\n",
              "      <td>Yangon</td>\n",
              "      <td>Normal</td>\n",
              "      <td>Male</td>\n",
              "      <td>Home and lifestyle</td>\n",
              "      <td>46.33</td>\n",
              "      <td>7</td>\n",
              "      <td>16.2155</td>\n",
              "      <td>340.5255</td>\n",
              "      <td>3/3/2019</td>\n",
              "      <td>Credit card</td>\n",
              "      <td>324.31</td>\n",
              "      <td>16.2155</td>\n",
              "      <td>7.4</td>\n",
              "    </tr>\n",
              "    <tr>\n",
              "      <th>3</th>\n",
              "      <td>A</td>\n",
              "      <td>Yangon</td>\n",
              "      <td>Member</td>\n",
              "      <td>Male</td>\n",
              "      <td>Health and beauty</td>\n",
              "      <td>58.22</td>\n",
              "      <td>8</td>\n",
              "      <td>23.2880</td>\n",
              "      <td>489.0480</td>\n",
              "      <td>1/27/2019</td>\n",
              "      <td>Ewallet</td>\n",
              "      <td>465.76</td>\n",
              "      <td>23.2880</td>\n",
              "      <td>8.4</td>\n",
              "    </tr>\n",
              "    <tr>\n",
              "      <th>4</th>\n",
              "      <td>A</td>\n",
              "      <td>Yangon</td>\n",
              "      <td>Normal</td>\n",
              "      <td>Male</td>\n",
              "      <td>Sports and travel</td>\n",
              "      <td>86.31</td>\n",
              "      <td>7</td>\n",
              "      <td>30.2085</td>\n",
              "      <td>634.3785</td>\n",
              "      <td>2/8/2019</td>\n",
              "      <td>Ewallet</td>\n",
              "      <td>604.17</td>\n",
              "      <td>30.2085</td>\n",
              "      <td>5.3</td>\n",
              "    </tr>\n",
              "    <tr>\n",
              "      <th>5</th>\n",
              "      <td>C</td>\n",
              "      <td>Naypyitaw</td>\n",
              "      <td>Normal</td>\n",
              "      <td>Male</td>\n",
              "      <td>Electronic accessories</td>\n",
              "      <td>85.39</td>\n",
              "      <td>7</td>\n",
              "      <td>29.8865</td>\n",
              "      <td>627.6165</td>\n",
              "      <td>3/25/2019</td>\n",
              "      <td>Ewallet</td>\n",
              "      <td>597.73</td>\n",
              "      <td>29.8865</td>\n",
              "      <td>4.1</td>\n",
              "    </tr>\n",
              "    <tr>\n",
              "      <th>6</th>\n",
              "      <td>A</td>\n",
              "      <td>Yangon</td>\n",
              "      <td>Member</td>\n",
              "      <td>Female</td>\n",
              "      <td>Electronic accessories</td>\n",
              "      <td>68.84</td>\n",
              "      <td>6</td>\n",
              "      <td>20.6520</td>\n",
              "      <td>433.6920</td>\n",
              "      <td>2/25/2019</td>\n",
              "      <td>Ewallet</td>\n",
              "      <td>413.04</td>\n",
              "      <td>20.6520</td>\n",
              "      <td>5.8</td>\n",
              "    </tr>\n",
              "    <tr>\n",
              "      <th>7</th>\n",
              "      <td>C</td>\n",
              "      <td>Naypyitaw</td>\n",
              "      <td>Normal</td>\n",
              "      <td>Female</td>\n",
              "      <td>Home and lifestyle</td>\n",
              "      <td>73.56</td>\n",
              "      <td>10</td>\n",
              "      <td>36.7800</td>\n",
              "      <td>772.3800</td>\n",
              "      <td>2/24/2019</td>\n",
              "      <td>Ewallet</td>\n",
              "      <td>735.60</td>\n",
              "      <td>36.7800</td>\n",
              "      <td>8.0</td>\n",
              "    </tr>\n",
              "    <tr>\n",
              "      <th>8</th>\n",
              "      <td>A</td>\n",
              "      <td>Yangon</td>\n",
              "      <td>Member</td>\n",
              "      <td>Female</td>\n",
              "      <td>Health and beauty</td>\n",
              "      <td>36.26</td>\n",
              "      <td>2</td>\n",
              "      <td>3.6260</td>\n",
              "      <td>76.1460</td>\n",
              "      <td>1/10/2019</td>\n",
              "      <td>Credit card</td>\n",
              "      <td>72.52</td>\n",
              "      <td>3.6260</td>\n",
              "      <td>7.2</td>\n",
              "    </tr>\n",
              "    <tr>\n",
              "      <th>9</th>\n",
              "      <td>B</td>\n",
              "      <td>Mandalay</td>\n",
              "      <td>Member</td>\n",
              "      <td>Female</td>\n",
              "      <td>Food and beverages</td>\n",
              "      <td>54.84</td>\n",
              "      <td>3</td>\n",
              "      <td>8.2260</td>\n",
              "      <td>172.7460</td>\n",
              "      <td>2/20/2019</td>\n",
              "      <td>Credit card</td>\n",
              "      <td>164.52</td>\n",
              "      <td>8.2260</td>\n",
              "      <td>5.9</td>\n",
              "    </tr>\n",
              "  </tbody>\n",
              "</table>\n",
              "</div>\n",
              "      <button class=\"colab-df-convert\" onclick=\"convertToInteractive('df-a9b0509e-5f58-47f1-b39b-94097b71a6a3')\"\n",
              "              title=\"Convert this dataframe to an interactive table.\"\n",
              "              style=\"display:none;\">\n",
              "        \n",
              "  <svg xmlns=\"http://www.w3.org/2000/svg\" height=\"24px\"viewBox=\"0 0 24 24\"\n",
              "       width=\"24px\">\n",
              "    <path d=\"M0 0h24v24H0V0z\" fill=\"none\"/>\n",
              "    <path d=\"M18.56 5.44l.94 2.06.94-2.06 2.06-.94-2.06-.94-.94-2.06-.94 2.06-2.06.94zm-11 1L8.5 8.5l.94-2.06 2.06-.94-2.06-.94L8.5 2.5l-.94 2.06-2.06.94zm10 10l.94 2.06.94-2.06 2.06-.94-2.06-.94-.94-2.06-.94 2.06-2.06.94z\"/><path d=\"M17.41 7.96l-1.37-1.37c-.4-.4-.92-.59-1.43-.59-.52 0-1.04.2-1.43.59L10.3 9.45l-7.72 7.72c-.78.78-.78 2.05 0 2.83L4 21.41c.39.39.9.59 1.41.59.51 0 1.02-.2 1.41-.59l7.78-7.78 2.81-2.81c.8-.78.8-2.07 0-2.86zM5.41 20L4 18.59l7.72-7.72 1.47 1.35L5.41 20z\"/>\n",
              "  </svg>\n",
              "      </button>\n",
              "      \n",
              "  <style>\n",
              "    .colab-df-container {\n",
              "      display:flex;\n",
              "      flex-wrap:wrap;\n",
              "      gap: 12px;\n",
              "    }\n",
              "\n",
              "    .colab-df-convert {\n",
              "      background-color: #E8F0FE;\n",
              "      border: none;\n",
              "      border-radius: 50%;\n",
              "      cursor: pointer;\n",
              "      display: none;\n",
              "      fill: #1967D2;\n",
              "      height: 32px;\n",
              "      padding: 0 0 0 0;\n",
              "      width: 32px;\n",
              "    }\n",
              "\n",
              "    .colab-df-convert:hover {\n",
              "      background-color: #E2EBFA;\n",
              "      box-shadow: 0px 1px 2px rgba(60, 64, 67, 0.3), 0px 1px 3px 1px rgba(60, 64, 67, 0.15);\n",
              "      fill: #174EA6;\n",
              "    }\n",
              "\n",
              "    [theme=dark] .colab-df-convert {\n",
              "      background-color: #3B4455;\n",
              "      fill: #D2E3FC;\n",
              "    }\n",
              "\n",
              "    [theme=dark] .colab-df-convert:hover {\n",
              "      background-color: #434B5C;\n",
              "      box-shadow: 0px 1px 3px 1px rgba(0, 0, 0, 0.15);\n",
              "      filter: drop-shadow(0px 1px 2px rgba(0, 0, 0, 0.3));\n",
              "      fill: #FFFFFF;\n",
              "    }\n",
              "  </style>\n",
              "\n",
              "      <script>\n",
              "        const buttonEl =\n",
              "          document.querySelector('#df-a9b0509e-5f58-47f1-b39b-94097b71a6a3 button.colab-df-convert');\n",
              "        buttonEl.style.display =\n",
              "          google.colab.kernel.accessAllowed ? 'block' : 'none';\n",
              "\n",
              "        async function convertToInteractive(key) {\n",
              "          const element = document.querySelector('#df-a9b0509e-5f58-47f1-b39b-94097b71a6a3');\n",
              "          const dataTable =\n",
              "            await google.colab.kernel.invokeFunction('convertToInteractive',\n",
              "                                                     [key], {});\n",
              "          if (!dataTable) return;\n",
              "\n",
              "          const docLinkHtml = 'Like what you see? Visit the ' +\n",
              "            '<a target=\"_blank\" href=https://colab.research.google.com/notebooks/data_table.ipynb>data table notebook</a>'\n",
              "            + ' to learn more about interactive tables.';\n",
              "          element.innerHTML = '';\n",
              "          dataTable['output_type'] = 'display_data';\n",
              "          await google.colab.output.renderOutput(dataTable, element);\n",
              "          const docLink = document.createElement('div');\n",
              "          docLink.innerHTML = docLinkHtml;\n",
              "          element.appendChild(docLink);\n",
              "        }\n",
              "      </script>\n",
              "    </div>\n",
              "  </div>\n",
              "  "
            ]
          },
          "metadata": {},
          "execution_count": 528
        }
      ]
    },
    {
      "cell_type": "code",
      "source": [
        "data['Product line']"
      ],
      "metadata": {
        "colab": {
          "base_uri": "https://localhost:8080/"
        },
        "id": "p-AWWK5PO3CW",
        "outputId": "25779d96-85be-432f-fc7c-6487c55f7025"
      },
      "execution_count": 529,
      "outputs": [
        {
          "output_type": "execute_result",
          "data": {
            "text/plain": [
              "0           Health and beauty\n",
              "1      Electronic accessories\n",
              "2          Home and lifestyle\n",
              "3           Health and beauty\n",
              "4           Sports and travel\n",
              "                ...          \n",
              "995         Health and beauty\n",
              "996        Home and lifestyle\n",
              "997        Food and beverages\n",
              "998        Home and lifestyle\n",
              "999       Fashion accessories\n",
              "Name: Product line, Length: 1000, dtype: object"
            ]
          },
          "metadata": {},
          "execution_count": 529
        }
      ]
    },
    {
      "cell_type": "markdown",
      "source": [
        "# **supermarketda 3 oylik pul aylanish**"
      ],
      "metadata": {
        "id": "ckQbxlCkXTEs"
      }
    },
    {
      "cell_type": "code",
      "source": [
        "shop_pul_aylanish=data.groupby(['City']).sum()['Total']\n",
        "shop_pul_aylanish"
      ],
      "metadata": {
        "colab": {
          "base_uri": "https://localhost:8080/"
        },
        "id": "yWrNsy1w_SsM",
        "outputId": "385102fe-b0cd-400b-83e7-54a7ee559953"
      },
      "execution_count": 530,
      "outputs": [
        {
          "output_type": "execute_result",
          "data": {
            "text/plain": [
              "City\n",
              "Mandalay     106197.6720\n",
              "Naypyitaw    110568.7065\n",
              "Yangon       106200.3705\n",
              "Name: Total, dtype: float64"
            ]
          },
          "metadata": {},
          "execution_count": 530
        }
      ]
    },
    {
      "cell_type": "code",
      "source": [
        "shop_pul_aylanish.plot(kind='bar',figsize=(10,5))\n",
        "plt.grid(axis='y')"
      ],
      "metadata": {
        "colab": {
          "base_uri": "https://localhost:8080/",
          "height": 376
        },
        "id": "v-mJ_SyN_8sz",
        "outputId": "4adc99d7-4eae-4d07-be8c-85b859b46707"
      },
      "execution_count": 531,
      "outputs": [
        {
          "output_type": "display_data",
          "data": {
            "text/plain": [
              "<Figure size 720x360 with 1 Axes>"
            ],
            "image/png": "[encoded data removed]"
          },
          "metadata": {
            "needs_background": "light"
          }
        }
      ]
    },
    {
      "cell_type": "markdown",
      "source": [
        "# **supermarketda 3 oylik daromat**"
      ],
      "metadata": {
        "id": "B2OpKDUnXORp"
      }
    },
    {
      "cell_type": "code",
      "source": [
        "shop_daromat=data.groupby(['City']).sum()['gross income']\n",
        "shop_daromat"
      ],
      "metadata": {
        "colab": {
          "base_uri": "https://localhost:8080/"
        },
        "id": "0FXfYMMbLj4t",
        "outputId": "5af60822-a00a-44b5-8f03-2658b875ffeb"
      },
      "execution_count": 532,
      "outputs": [
        {
          "output_type": "execute_result",
          "data": {
            "text/plain": [
              "City\n",
              "Mandalay     5057.0320\n",
              "Naypyitaw    5265.1765\n",
              "Yangon       5057.1605\n",
              "Name: gross income, dtype: float64"
            ]
          },
          "metadata": {},
          "execution_count": 532
        }
      ]
    },
    {
      "cell_type": "code",
      "source": [
        "shop_daromat.plot(kind='bar',figsize=(10,5))\n",
        "plt.grid(axis='y')"
      ],
      "metadata": {
        "colab": {
          "base_uri": "https://localhost:8080/",
          "height": 376
        },
        "id": "FtpF4rLsLjyc",
        "outputId": "f852ea0c-4709-4762-8d90-80dd5b9dc809"
      },
      "execution_count": 533,
      "outputs": [
        {
          "output_type": "display_data",
          "data": {
            "text/plain": [
              "<Figure size 720x360 with 1 Axes>"
            ],
            "image/png": "[encoded data removed]"
          },
          "metadata": {
            "needs_background": "light"
          }
        }
      ]
    },
    {
      "cell_type": "markdown",
      "source": [
        "# **Shaharlar bo'yicha 3 oylik pul aylanishi**"
      ],
      "metadata": {
        "id": "GNRNDKB-XEG8"
      }
    },
    {
      "cell_type": "code",
      "source": [
        "shahar_pul_aylanish=data.groupby(['City']).sum()['Total']\n",
        "shahar_pul_aylanish"
      ],
      "metadata": {
        "colab": {
          "base_uri": "https://localhost:8080/"
        },
        "id": "hxMA-R_uS161",
        "outputId": "10556ee6-b8ed-4af3-c2ff-43e5522abe60"
      },
      "execution_count": 534,
      "outputs": [
        {
          "output_type": "execute_result",
          "data": {
            "text/plain": [
              "City\n",
              "Mandalay     106197.6720\n",
              "Naypyitaw    110568.7065\n",
              "Yangon       106200.3705\n",
              "Name: Total, dtype: float64"
            ]
          },
          "metadata": {},
          "execution_count": 534
        }
      ]
    },
    {
      "cell_type": "code",
      "source": [
        "shahar_pul_aylanish.plot(kind='bar',figsize=(15,8))\n",
        "# plt.legend(loc='lower right')"
      ],
      "metadata": {
        "colab": {
          "base_uri": "https://localhost:8080/",
          "height": 557
        },
        "id": "a7HGrXqiS13t",
        "outputId": "4866f83c-2bc2-46a7-952f-2b001897c1ea"
      },
      "execution_count": 535,
      "outputs": [
        {
          "output_type": "execute_result",
          "data": {
            "text/plain": [
              "<matplotlib.axes._subplots.AxesSubplot at 0x7f1788e817d0>"
            ]
          },
          "metadata": {},
          "execution_count": 535
        },
        {
          "output_type": "display_data",
          "data": {
            "text/plain": [
              "<Figure size 1080x576 with 1 Axes>"
            ],
            "image/png": "[encoded data removed]"
          },
          "metadata": {
            "needs_background": "light"
          }
        }
      ]
    },
    {
      "cell_type": "markdown",
      "source": [
        "member(maxsus k).......normal(oddiy k).......female(erkak)........male(ayol).........\n"
      ],
      "metadata": {
        "id": "b4xRk-jA4Csg"
      }
    },
    {
      "cell_type": "markdown",
      "source": [
        "# **Shaharlar bo'yicha 3 oylik daromat**"
      ],
      "metadata": {
        "id": "-H3lSuiLW8KR"
      }
    },
    {
      "cell_type": "code",
      "source": [
        "shahar_daromat=data.groupby(['City']).sum()['gross income']\n",
        "shahar_daromat"
      ],
      "metadata": {
        "colab": {
          "base_uri": "https://localhost:8080/"
        },
        "id": "KlUbyexvOPoj",
        "outputId": "8c6343a6-166e-49a7-fb9f-e90db47d65b3"
      },
      "execution_count": 536,
      "outputs": [
        {
          "output_type": "execute_result",
          "data": {
            "text/plain": [
              "City\n",
              "Mandalay     5057.0320\n",
              "Naypyitaw    5265.1765\n",
              "Yangon       5057.1605\n",
              "Name: gross income, dtype: float64"
            ]
          },
          "metadata": {},
          "execution_count": 536
        }
      ]
    },
    {
      "cell_type": "code",
      "source": [
        "shahar_daromat.plot(kind='bar',figsize=(15,8))\n",
        "# plt.legend(loc='lower right')"
      ],
      "metadata": {
        "colab": {
          "base_uri": "https://localhost:8080/",
          "height": 557
        },
        "id": "fMRbb4YZOPiE",
        "outputId": "d45518a4-b770-46ec-ef82-65add180605e"
      },
      "execution_count": 537,
      "outputs": [
        {
          "output_type": "execute_result",
          "data": {
            "text/plain": [
              "<matplotlib.axes._subplots.AxesSubplot at 0x7f1788df7250>"
            ]
          },
          "metadata": {},
          "execution_count": 537
        },
        {
          "output_type": "display_data",
          "data": {
            "text/plain": [
              "<Figure size 1080x576 with 1 Axes>"
            ],
            "image/png": "[encoded data removed]"
          },
          "metadata": {
            "needs_background": "light"
          }
        }
      ]
    },
    {
      "cell_type": "code",
      "source": [
        ""
      ],
      "metadata": {
        "id": "NIWhNRlkHPSx"
      },
      "execution_count": null,
      "outputs": []
    },
    {
      "cell_type": "markdown",
      "source": [
        "# **Daromat**"
      ],
      "metadata": {
        "id": "eK8Z6rPoRS-g"
      }
    },
    {
      "cell_type": "code",
      "source": [
        "gen_cus=data.groupby(['City','Customer type','Gender']).sum()['gross income']\n",
        "gen_cus"
      ],
      "metadata": {
        "colab": {
          "base_uri": "https://localhost:8080/"
        },
        "id": "vmK5n56WSAYy",
        "outputId": "476346d6-5aae-4174-85ab-9637db8e21bc"
      },
      "execution_count": 539,
      "outputs": [
        {
          "output_type": "execute_result",
          "data": {
            "text/plain": [
              "City       Customer type  Gender\n",
              "Mandalay   Member         Female    1278.5920\n",
              "                          Male      1278.7740\n",
              "           Normal         Female    1241.8030\n",
              "                          Male      1257.8630\n",
              "Naypyitaw  Member         Female    1650.1640\n",
              "                          Male      1058.4685\n",
              "           Normal         Female    1287.2390\n",
              "                          Male      1269.3050\n",
              "Yangon     Member         Female    1268.7175\n",
              "                          Male      1285.4480\n",
              "           Normal         Female    1267.9095\n",
              "                          Male      1235.0855\n",
              "Name: gross income, dtype: float64"
            ]
          },
          "metadata": {},
          "execution_count": 539
        }
      ]
    },
    {
      "cell_type": "code",
      "source": [
        "gen_cus.unstack(level=0).plot(kind='bar',figsize=(13,5))\n",
        "plt.grid(axis='y')"
      ],
      "metadata": {
        "colab": {
          "base_uri": "https://localhost:8080/",
          "height": 415
        },
        "id": "XzVPB58kSAMi",
        "outputId": "94dfaaf6-7fbe-40aa-995c-91a624de931b"
      },
      "execution_count": 566,
      "outputs": [
        {
          "output_type": "display_data",
          "data": {
            "text/plain": [
              "<Figure size 936x360 with 1 Axes>"
            ],
            "image/png": "[encoded data removed]"
          },
          "metadata": {
            "needs_background": "light"
          }
        }
      ]
    },
    {
      "cell_type": "markdown",
      "source": [
        "# **Shaharlar bo'yicha odam soni**"
      ],
      "metadata": {
        "id": "krqT9OvkWrTH"
      }
    },
    {
      "cell_type": "code",
      "source": [
        "shahar_turi_jinsi=data.groupby(['City','Customer type','Gender']).count()['Total']\n",
        "shahar_turi_jinsi"
      ],
      "metadata": {
        "colab": {
          "base_uri": "https://localhost:8080/"
        },
        "id": "8ASBHTJCSmVq",
        "outputId": "f4cfe82d-9810-4683-de9e-eded312c435d"
      },
      "execution_count": 563,
      "outputs": [
        {
          "output_type": "execute_result",
          "data": {
            "text/plain": [
              "City       Customer type  Gender\n",
              "Mandalay   Member         Female    85\n",
              "                          Male      80\n",
              "           Normal         Female    77\n",
              "                          Male      90\n",
              "Naypyitaw  Member         Female    96\n",
              "                          Male      73\n",
              "           Normal         Female    82\n",
              "                          Male      77\n",
              "Yangon     Member         Female    80\n",
              "                          Male      87\n",
              "           Normal         Female    81\n",
              "                          Male      92\n",
              "Name: Total, dtype: int64"
            ]
          },
          "metadata": {},
          "execution_count": 563
        }
      ]
    },
    {
      "cell_type": "markdown",
      "source": [
        "# **Mandalay = 332**(M = 165)..**Naypyitaw = 328**(M = 169)..**Yangon = 340**(M = 169).. **Member = 501..... Normal = 499..... Female=501..... Male = 499.....**"
      ],
      "metadata": {
        "id": "arfPFX4HTyWv"
      }
    },
    {
      "cell_type": "markdown",
      "source": [
        "**Female**(erkak)..... **Male**(ayol)....."
      ],
      "metadata": {
        "id": "34_kYmOUWiLA"
      }
    },
    {
      "cell_type": "code",
      "source": [
        "shahar_turi_jinsi.unstack(level=0).plot(kind='bar',figsize=(13,5))\n",
        "plt.grid(axis='y')"
      ],
      "metadata": {
        "colab": {
          "base_uri": "https://localhost:8080/",
          "height": 417
        },
        "id": "hzaY5CKfSmNW",
        "outputId": "6f01c81a-141d-4f8c-e71d-e447795f2f8a"
      },
      "execution_count": 565,
      "outputs": [
        {
          "output_type": "display_data",
          "data": {
            "text/plain": [
              "<Figure size 936x360 with 1 Axes>"
            ],
            "image/png": "[encoded data removed]"
          },
          "metadata": {
            "needs_background": "light"
          }
        }
      ]
    },
    {
      "cell_type": "code",
      "source": [
        "mahsulot=data.groupby(['Product line']).count()['Total']\n",
        "mahsulot"
      ],
      "metadata": {
        "colab": {
          "base_uri": "https://localhost:8080/"
        },
        "id": "pbvf1m0A78BI",
        "outputId": "91b0caca-778d-4e5d-ecec-198d9c68198c"
      },
      "execution_count": 541,
      "outputs": [
        {
          "output_type": "execute_result",
          "data": {
            "text/plain": [
              "Product line\n",
              "Electronic accessories    170\n",
              "Fashion accessories       178\n",
              "Food and beverages        174\n",
              "Health and beauty         152\n",
              "Home and lifestyle        160\n",
              "Sports and travel         166\n",
              "Name: Total, dtype: int64"
            ]
          },
          "metadata": {},
          "execution_count": 541
        }
      ]
    },
    {
      "cell_type": "code",
      "source": [
        "mahsulot.plot(kind='bar',figsize=(13,5))\n",
        "plt.grid(axis='y')"
      ],
      "metadata": {
        "colab": {
          "base_uri": "https://localhost:8080/",
          "height": 434
        },
        "id": "yT9uvBvG77-i",
        "outputId": "357a2be2-ff2d-4ab1-87de-9e6073b89144"
      },
      "execution_count": 569,
      "outputs": [
        {
          "output_type": "display_data",
          "data": {
            "text/plain": [
              "<Figure size 936x360 with 1 Axes>"
            ],
            "image/png": "[encoded data removed]"
          },
          "metadata": {
            "needs_background": "light"
          }
        }
      ]
    },
    {
      "cell_type": "code",
      "source": [
        "city_product=data.groupby(['City','Product line']).count()['Total']\n",
        "city_product"
      ],
      "metadata": {
        "colab": {
          "base_uri": "https://localhost:8080/"
        },
        "id": "GWTm0jE9Bfdq",
        "outputId": "c1e3f611-e911-42da-de8a-ce57511cbbb7"
      },
      "execution_count": 567,
      "outputs": [
        {
          "output_type": "execute_result",
          "data": {
            "text/plain": [
              "City       Product line          \n",
              "Mandalay   Electronic accessories    55\n",
              "           Fashion accessories       62\n",
              "           Food and beverages        50\n",
              "           Health and beauty         53\n",
              "           Home and lifestyle        50\n",
              "           Sports and travel         62\n",
              "Naypyitaw  Electronic accessories    55\n",
              "           Fashion accessories       65\n",
              "           Food and beverages        66\n",
              "           Health and beauty         52\n",
              "           Home and lifestyle        45\n",
              "           Sports and travel         45\n",
              "Yangon     Electronic accessories    60\n",
              "           Fashion accessories       51\n",
              "           Food and beverages        58\n",
              "           Health and beauty         47\n",
              "           Home and lifestyle        65\n",
              "           Sports and travel         59\n",
              "Name: Total, dtype: int64"
            ]
          },
          "metadata": {},
          "execution_count": 567
        }
      ]
    },
    {
      "cell_type": "code",
      "source": [
        "city_product.unstack(level=0).plot(kind='bar',figsize=(13,5))\n",
        "plt.legend(loc='lower left')\n",
        "plt.grid(axis='y')"
      ],
      "metadata": {
        "colab": {
          "base_uri": "https://localhost:8080/",
          "height": 434
        },
        "id": "fPZHGGsxBfX9",
        "outputId": "4a996108-6a2e-492f-f96e-5e4cbbcb7f01"
      },
      "execution_count": 570,
      "outputs": [
        {
          "output_type": "display_data",
          "data": {
            "text/plain": [
              "<Figure size 936x360 with 1 Axes>"
            ],
            "image/png": "[encoded data removed]"
          },
          "metadata": {
            "needs_background": "light"
          }
        }
      ]
    },
    {
      "cell_type": "code",
      "source": [
        "sotilish=data.groupby(['Product line','Customer type','Gender']).count()['Total']\n",
        "sotilish"
      ],
      "metadata": {
        "colab": {
          "base_uri": "https://localhost:8080/"
        },
        "id": "U681LuUe777r",
        "outputId": "0fb297e9-49eb-4ce7-a3f4-fb6e7cfec577"
      },
      "execution_count": 545,
      "outputs": [
        {
          "output_type": "execute_result",
          "data": {
            "text/plain": [
              "Product line            Customer type  Gender\n",
              "Electronic accessories  Member         Female    35\n",
              "                                       Male      43\n",
              "                        Normal         Female    49\n",
              "                                       Male      43\n",
              "Fashion accessories     Member         Female    47\n",
              "                                       Male      39\n",
              "                        Normal         Female    49\n",
              "                                       Male      43\n",
              "Food and beverages      Member         Female    51\n",
              "                                       Male      43\n",
              "                        Normal         Female    39\n",
              "                                       Male      41\n",
              "Health and beauty       Member         Female    30\n",
              "                                       Male      43\n",
              "                        Normal         Female    34\n",
              "                                       Male      45\n",
              "Home and lifestyle      Member         Female    47\n",
              "                                       Male      36\n",
              "                        Normal         Female    32\n",
              "                                       Male      45\n",
              "Sports and travel       Member         Female    51\n",
              "                                       Male      36\n",
              "                        Normal         Female    37\n",
              "                                       Male      42\n",
              "Name: Total, dtype: int64"
            ]
          },
          "metadata": {},
          "execution_count": 545
        }
      ]
    },
    {
      "cell_type": "code",
      "source": [
        "sotilish.unstack(level=0).plot(kind='bar',figsize=(15,6))\n",
        "plt.legend(loc='lower left')\n",
        "plt.grid(axis='y')"
      ],
      "metadata": {
        "colab": {
          "base_uri": "https://localhost:8080/",
          "height": 469
        },
        "id": "ijH9nmJm774z",
        "outputId": "8e28fac9-ade2-4dc5-f678-6ed769a17487"
      },
      "execution_count": 571,
      "outputs": [
        {
          "output_type": "display_data",
          "data": {
            "text/plain": [
              "<Figure size 1080x432 with 1 Axes>"
            ],
            "image/png": "[encoded data removed]"
          },
          "metadata": {
            "needs_background": "light"
          }
        }
      ]
    },
    {
      "cell_type": "code",
      "source": [
        "pd.to_datetime(data['Date'])"
      ],
      "metadata": {
        "colab": {
          "base_uri": "https://localhost:8080/"
        },
        "id": "McwBrb0Z772N",
        "outputId": "895bd080-309f-4fc2-9db1-b1a6c222af6e"
      },
      "execution_count": 547,
      "outputs": [
        {
          "output_type": "execute_result",
          "data": {
            "text/plain": [
              "0     2019-01-05\n",
              "1     2019-03-08\n",
              "2     2019-03-03\n",
              "3     2019-01-27\n",
              "4     2019-02-08\n",
              "         ...    \n",
              "995   2019-01-29\n",
              "996   2019-03-02\n",
              "997   2019-02-09\n",
              "998   2019-02-22\n",
              "999   2019-02-18\n",
              "Name: Date, Length: 1000, dtype: datetime64[ns]"
            ]
          },
          "metadata": {},
          "execution_count": 547
        }
      ]
    },
    {
      "cell_type": "code",
      "source": [
        "data['Day']=pd.to_datetime(data['Date']).dt.day\n",
        "data['Month']=pd.to_datetime(data['Date']).dt.month\n",
        "data.head()"
      ],
      "metadata": {
        "colab": {
          "base_uri": "https://localhost:8080/",
          "height": 374
        },
        "id": "UrevNfBO77w_",
        "outputId": "0559e40d-bae7-4c13-bab7-6e13d6bc7039"
      },
      "execution_count": 549,
      "outputs": [
        {
          "output_type": "execute_result",
          "data": {
            "text/plain": [
              "  Branch       City Customer type  Gender            Product line  Unit price  \\\n",
              "0      A     Yangon        Member  Female       Health and beauty       74.69   \n",
              "1      C  Naypyitaw        Normal  Female  Electronic accessories       15.28   \n",
              "2      A     Yangon        Normal    Male      Home and lifestyle       46.33   \n",
              "3      A     Yangon        Member    Male       Health and beauty       58.22   \n",
              "4      A     Yangon        Normal    Male       Sports and travel       86.31   \n",
              "\n",
              "   Quantity   Tax 5%     Total       Date      Payment    cogs  gross income  \\\n",
              "0         7  26.1415  548.9715   1/5/2019      Ewallet  522.83       26.1415   \n",
              "1         5   3.8200   80.2200   3/8/2019         Cash   76.40        3.8200   \n",
              "2         7  16.2155  340.5255   3/3/2019  Credit card  324.31       16.2155   \n",
              "3         8  23.2880  489.0480  1/27/2019      Ewallet  465.76       23.2880   \n",
              "4         7  30.2085  634.3785   2/8/2019      Ewallet  604.17       30.2085   \n",
              "\n",
              "   Rating  Day  Month  \n",
              "0     9.1    5      1  \n",
              "1     9.6    8      3  \n",
              "2     7.4    3      3  \n",
              "3     8.4   27      1  \n",
              "4     5.3    8      2  "
            ],
            "text/html": [
              "\n",
              "  <div id=\"df-951729cd-2e12-40f8-aceb-2435f58aa725\">\n",
              "    <div class=\"colab-df-container\">\n",
              "      <div>\n",
              "<style scoped>\n",
              "    .dataframe tbody tr th:only-of-type {\n",
              "        vertical-align: middle;\n",
              "    }\n",
              "\n",
              "    .dataframe tbody tr th {\n",
              "        vertical-align: top;\n",
              "    }\n",
              "\n",
              "    .dataframe thead th {\n",
              "        text-align: right;\n",
              "    }\n",
              "</style>\n",
              "<table border=\"1\" class=\"dataframe\">\n",
              "  <thead>\n",
              "    <tr style=\"text-align: right;\">\n",
              "      <th></th>\n",
              "      <th>Branch</th>\n",
              "      <th>City</th>\n",
              "      <th>Customer type</th>\n",
              "      <th>Gender</th>\n",
              "      <th>Product line</th>\n",
              "      <th>Unit price</th>\n",
              "      <th>Quantity</th>\n",
              "      <th>Tax 5%</th>\n",
              "      <th>Total</th>\n",
              "      <th>Date</th>\n",
              "      <th>Payment</th>\n",
              "      <th>cogs</th>\n",
              "      <th>gross income</th>\n",
              "      <th>Rating</th>\n",
              "      <th>Day</th>\n",
              "      <th>Month</th>\n",
              "    </tr>\n",
              "  </thead>\n",
              "  <tbody>\n",
              "    <tr>\n",
              "      <th>0</th>\n",
              "      <td>A</td>\n",
              "      <td>Yangon</td>\n",
              "      <td>Member</td>\n",
              "      <td>Female</td>\n",
              "      <td>Health and beauty</td>\n",
              "      <td>74.69</td>\n",
              "      <td>7</td>\n",
              "      <td>26.1415</td>\n",
              "      <td>548.9715</td>\n",
              "      <td>1/5/2019</td>\n",
              "      <td>Ewallet</td>\n",
              "      <td>522.83</td>\n",
              "      <td>26.1415</td>\n",
              "      <td>9.1</td>\n",
              "      <td>5</td>\n",
              "      <td>1</td>\n",
              "    </tr>\n",
              "    <tr>\n",
              "      <th>1</th>\n",
              "      <td>C</td>\n",
              "      <td>Naypyitaw</td>\n",
              "      <td>Normal</td>\n",
              "      <td>Female</td>\n",
              "      <td>Electronic accessories</td>\n",
              "      <td>15.28</td>\n",
              "      <td>5</td>\n",
              "      <td>3.8200</td>\n",
              "      <td>80.2200</td>\n",
              "      <td>3/8/2019</td>\n",
              "      <td>Cash</td>\n",
              "      <td>76.40</td>\n",
              "      <td>3.8200</td>\n",
              "      <td>9.6</td>\n",
              "      <td>8</td>\n",
              "      <td>3</td>\n",
              "    </tr>\n",
              "    <tr>\n",
              "      <th>2</th>\n",
              "      <td>A</td>\n",
              "      <td>Yangon</td>\n",
              "      <td>Normal</td>\n",
              "      <td>Male</td>\n",
              "      <td>Home and lifestyle</td>\n",
              "      <td>46.33</td>\n",
              "      <td>7</td>\n",
              "      <td>16.2155</td>\n",
              "      <td>340.5255</td>\n",
              "      <td>3/3/2019</td>\n",
              "      <td>Credit card</td>\n",
              "      <td>324.31</td>\n",
              "      <td>16.2155</td>\n",
              "      <td>7.4</td>\n",
              "      <td>3</td>\n",
              "      <td>3</td>\n",
              "    </tr>\n",
              "    <tr>\n",
              "      <th>3</th>\n",
              "      <td>A</td>\n",
              "      <td>Yangon</td>\n",
              "      <td>Member</td>\n",
              "      <td>Male</td>\n",
              "      <td>Health and beauty</td>\n",
              "      <td>58.22</td>\n",
              "      <td>8</td>\n",
              "      <td>23.2880</td>\n",
              "      <td>489.0480</td>\n",
              "      <td>1/27/2019</td>\n",
              "      <td>Ewallet</td>\n",
              "      <td>465.76</td>\n",
              "      <td>23.2880</td>\n",
              "      <td>8.4</td>\n",
              "      <td>27</td>\n",
              "      <td>1</td>\n",
              "    </tr>\n",
              "    <tr>\n",
              "      <th>4</th>\n",
              "      <td>A</td>\n",
              "      <td>Yangon</td>\n",
              "      <td>Normal</td>\n",
              "      <td>Male</td>\n",
              "      <td>Sports and travel</td>\n",
              "      <td>86.31</td>\n",
              "      <td>7</td>\n",
              "      <td>30.2085</td>\n",
              "      <td>634.3785</td>\n",
              "      <td>2/8/2019</td>\n",
              "      <td>Ewallet</td>\n",
              "      <td>604.17</td>\n",
              "      <td>30.2085</td>\n",
              "      <td>5.3</td>\n",
              "      <td>8</td>\n",
              "      <td>2</td>\n",
              "    </tr>\n",
              "  </tbody>\n",
              "</table>\n",
              "</div>\n",
              "      <button class=\"colab-df-convert\" onclick=\"convertToInteractive('df-951729cd-2e12-40f8-aceb-2435f58aa725')\"\n",
              "              title=\"Convert this dataframe to an interactive table.\"\n",
              "              style=\"display:none;\">\n",
              "        \n",
              "  <svg xmlns=\"http://www.w3.org/2000/svg\" height=\"24px\"viewBox=\"0 0 24 24\"\n",
              "       width=\"24px\">\n",
              "    <path d=\"M0 0h24v24H0V0z\" fill=\"none\"/>\n",
              "    <path d=\"M18.56 5.44l.94 2.06.94-2.06 2.06-.94-2.06-.94-.94-2.06-.94 2.06-2.06.94zm-11 1L8.5 8.5l.94-2.06 2.06-.94-2.06-.94L8.5 2.5l-.94 2.06-2.06.94zm10 10l.94 2.06.94-2.06 2.06-.94-2.06-.94-.94-2.06-.94 2.06-2.06.94z\"/><path d=\"M17.41 7.96l-1.37-1.37c-.4-.4-.92-.59-1.43-.59-.52 0-1.04.2-1.43.59L10.3 9.45l-7.72 7.72c-.78.78-.78 2.05 0 2.83L4 21.41c.39.39.9.59 1.41.59.51 0 1.02-.2 1.41-.59l7.78-7.78 2.81-2.81c.8-.78.8-2.07 0-2.86zM5.41 20L4 18.59l7.72-7.72 1.47 1.35L5.41 20z\"/>\n",
              "  </svg>\n",
              "      </button>\n",
              "      \n",
              "  <style>\n",
              "    .colab-df-container {\n",
              "      display:flex;\n",
              "      flex-wrap:wrap;\n",
              "      gap: 12px;\n",
              "    }\n",
              "\n",
              "    .colab-df-convert {\n",
              "      background-color: #E8F0FE;\n",
              "      border: none;\n",
              "      border-radius: 50%;\n",
              "      cursor: pointer;\n",
              "      display: none;\n",
              "      fill: #1967D2;\n",
              "      height: 32px;\n",
              "      padding: 0 0 0 0;\n",
              "      width: 32px;\n",
              "    }\n",
              "\n",
              "    .colab-df-convert:hover {\n",
              "      background-color: #E2EBFA;\n",
              "      box-shadow: 0px 1px 2px rgba(60, 64, 67, 0.3), 0px 1px 3px 1px rgba(60, 64, 67, 0.15);\n",
              "      fill: #174EA6;\n",
              "    }\n",
              "\n",
              "    [theme=dark] .colab-df-convert {\n",
              "      background-color: #3B4455;\n",
              "      fill: #D2E3FC;\n",
              "    }\n",
              "\n",
              "    [theme=dark] .colab-df-convert:hover {\n",
              "      background-color: #434B5C;\n",
              "      box-shadow: 0px 1px 3px 1px rgba(0, 0, 0, 0.15);\n",
              "      filter: drop-shadow(0px 1px 2px rgba(0, 0, 0, 0.3));\n",
              "      fill: #FFFFFF;\n",
              "    }\n",
              "  </style>\n",
              "\n",
              "      <script>\n",
              "        const buttonEl =\n",
              "          document.querySelector('#df-951729cd-2e12-40f8-aceb-2435f58aa725 button.colab-df-convert');\n",
              "        buttonEl.style.display =\n",
              "          google.colab.kernel.accessAllowed ? 'block' : 'none';\n",
              "\n",
              "        async function convertToInteractive(key) {\n",
              "          const element = document.querySelector('#df-951729cd-2e12-40f8-aceb-2435f58aa725');\n",
              "          const dataTable =\n",
              "            await google.colab.kernel.invokeFunction('convertToInteractive',\n",
              "                                                     [key], {});\n",
              "          if (!dataTable) return;\n",
              "\n",
              "          const docLinkHtml = 'Like what you see? Visit the ' +\n",
              "            '<a target=\"_blank\" href=https://colab.research.google.com/notebooks/data_table.ipynb>data table notebook</a>'\n",
              "            + ' to learn more about interactive tables.';\n",
              "          element.innerHTML = '';\n",
              "          dataTable['output_type'] = 'display_data';\n",
              "          await google.colab.output.renderOutput(dataTable, element);\n",
              "          const docLink = document.createElement('div');\n",
              "          docLink.innerHTML = docLinkHtml;\n",
              "          element.appendChild(docLink);\n",
              "        }\n",
              "      </script>\n",
              "    </div>\n",
              "  </div>\n",
              "  "
            ]
          },
          "metadata": {},
          "execution_count": 549
        }
      ]
    },
    {
      "cell_type": "code",
      "source": [
        "day=data.groupby('Day').sum()['Total']\n",
        "day"
      ],
      "metadata": {
        "colab": {
          "base_uri": "https://localhost:8080/"
        },
        "id": "sEw1ndy3GQxe",
        "outputId": "78f8fc92-698c-4842-e6da-2f7d8f4cfd29"
      },
      "execution_count": 550,
      "outputs": [
        {
          "output_type": "execute_result",
          "data": {
            "text/plain": [
              "Day\n",
              "1      9824.0835\n",
              "2     12646.7565\n",
              "3     12399.2295\n",
              "4      7957.6245\n",
              "5     12798.6915\n",
              "6      9612.2250\n",
              "7     11500.7130\n",
              "8     13503.7770\n",
              "9     13767.2850\n",
              "10     9865.2015\n",
              "11     9618.3675\n",
              "12    11861.3040\n",
              "13     5449.0485\n",
              "14    13635.3420\n",
              "15    15717.4605\n",
              "16     9947.3220\n",
              "17    10418.6145\n",
              "18     5569.3365\n",
              "19    14883.2355\n",
              "20    11820.0705\n",
              "21     5663.3535\n",
              "22     7326.2280\n",
              "23    12428.8185\n",
              "24    11601.9750\n",
              "25    11780.5695\n",
              "26     8828.1900\n",
              "27    13398.1680\n",
              "28     9326.1315\n",
              "29     7539.8085\n",
              "30     7045.3215\n",
              "31     5232.4965\n",
              "Name: Total, dtype: float64"
            ]
          },
          "metadata": {},
          "execution_count": 550
        }
      ]
    },
    {
      "cell_type": "code",
      "source": [
        "day.plot(kind='bar',figsize=(17,8))\n",
        "plt.grid(axis='y')"
      ],
      "metadata": {
        "colab": {
          "base_uri": "https://localhost:8080/",
          "height": 500
        },
        "id": "SJpN9AxH77uI",
        "outputId": "0f8aa81e-6e17-44bb-f5ad-788b5c40e008"
      },
      "execution_count": 551,
      "outputs": [
        {
          "output_type": "display_data",
          "data": {
            "text/plain": [
              "<Figure size 1224x576 with 1 Axes>"
            ],
            "image/png": "[encoded data removed]"
          },
          "metadata": {
            "needs_background": "light"
          }
        }
      ]
    },
    {
      "cell_type": "code",
      "source": [
        "month=data.groupby('Month').sum()['Total']\n",
        "month"
      ],
      "metadata": {
        "colab": {
          "base_uri": "https://localhost:8080/"
        },
        "id": "bXhp00yBDEk2",
        "outputId": "64b45d63-8240-4add-d8aa-2943b5be8533"
      },
      "execution_count": 552,
      "outputs": [
        {
          "output_type": "execute_result",
          "data": {
            "text/plain": [
              "Month\n",
              "1    116291.868\n",
              "2     97219.374\n",
              "3    109455.507\n",
              "Name: Total, dtype: float64"
            ]
          },
          "metadata": {},
          "execution_count": 552
        }
      ]
    },
    {
      "cell_type": "code",
      "source": [
        "month.plot(kind='bar',figsize=(10,5))\n",
        "plt.grid(axis='y')"
      ],
      "metadata": {
        "colab": {
          "base_uri": "https://localhost:8080/",
          "height": 330
        },
        "id": "tO6HzzC977rh",
        "outputId": "855a94aa-6247-49aa-a93b-a8809220c7bf"
      },
      "execution_count": 572,
      "outputs": [
        {
          "output_type": "display_data",
          "data": {
            "text/plain": [
              "<Figure size 720x360 with 1 Axes>"
            ],
            "image/png": "[encoded data removed]"
          },
          "metadata": {
            "needs_background": "light"
          }
        }
      ]
    },
    {
      "cell_type": "code",
      "source": [
        "data.groupby(['Month','Customer type','Gender']).sum()['Total'].unstack(level=0).plot(kind='bar',figsize=(13,5))\n",
        "plt.legend(loc='lower center')\n",
        "plt.grid(axis='y')"
      ],
      "metadata": {
        "colab": {
          "base_uri": "https://localhost:8080/",
          "height": 415
        },
        "id": "W6FrF_cwDy6A",
        "outputId": "6e27eaf1-1726-4649-bb39-ca6a3b57a113"
      },
      "execution_count": 575,
      "outputs": [
        {
          "output_type": "display_data",
          "data": {
            "text/plain": [
              "<Figure size 936x360 with 1 Axes>"
            ],
            "image/png": "[encoded data removed]"
          },
          "metadata": {
            "needs_background": "light"
          }
        }
      ]
    },
    {
      "cell_type": "code",
      "source": [
        "pay_soni=data.groupby(['Payment']).count()['Total']\n",
        "pay_soni"
      ],
      "metadata": {
        "colab": {
          "base_uri": "https://localhost:8080/"
        },
        "id": "vvGeUpMqavk1",
        "outputId": "5bce1038-0006-4a4d-e6d7-6c453bcc4594"
      },
      "execution_count": 581,
      "outputs": [
        {
          "output_type": "execute_result",
          "data": {
            "text/plain": [
              "Payment\n",
              "Cash           344\n",
              "Credit card    311\n",
              "Ewallet        345\n",
              "Name: Total, dtype: int64"
            ]
          },
          "metadata": {},
          "execution_count": 581
        }
      ]
    },
    {
      "cell_type": "code",
      "source": [
        "pay_soni.plot(kind='bar',figsize=(10,5))\n",
        "plt.grid(axis='y')"
      ],
      "metadata": {
        "colab": {
          "base_uri": "https://localhost:8080/",
          "height": 379
        },
        "id": "9bIkaQpBavb-",
        "outputId": "e0af572d-198c-494e-a2b7-5123dd9cac88"
      },
      "execution_count": 583,
      "outputs": [
        {
          "output_type": "display_data",
          "data": {
            "text/plain": [
              "<Figure size 720x360 with 1 Axes>"
            ],
            "image/png": "[encoded data removed]"
          },
          "metadata": {
            "needs_background": "light"
          }
        }
      ]
    },
    {
      "cell_type": "code",
      "source": [
        "pay=data.groupby(['Payment']).sum()['Total']\n",
        "pay"
      ],
      "metadata": {
        "colab": {
          "base_uri": "https://localhost:8080/"
        },
        "id": "5LGKfpRx6lR-",
        "outputId": "830ee8e1-1a82-40be-b516-c05d9743febd"
      },
      "execution_count": 584,
      "outputs": [
        {
          "output_type": "execute_result",
          "data": {
            "text/plain": [
              "Payment\n",
              "Cash           112206.570\n",
              "Credit card    100767.072\n",
              "Ewallet        109993.107\n",
              "Name: Total, dtype: float64"
            ]
          },
          "metadata": {},
          "execution_count": 584
        }
      ]
    },
    {
      "cell_type": "code",
      "source": [
        "pay.plot(kind='bar',figsize=(10,5))\n",
        "plt.grid(axis='y')"
      ],
      "metadata": {
        "colab": {
          "base_uri": "https://localhost:8080/",
          "height": 379
        },
        "id": "1KHf2vyx6o_A",
        "outputId": "25179920-ee25-4a80-d91e-b1c34fe08313"
      },
      "execution_count": 585,
      "outputs": [
        {
          "output_type": "display_data",
          "data": {
            "text/plain": [
              "<Figure size 720x360 with 1 Axes>"
            ],
            "image/png": "[encoded data removed]"
          },
          "metadata": {
            "needs_background": "light"
          }
        }
      ]
    },
    {
      "cell_type": "code",
      "source": [
        ""
      ],
      "metadata": {
        "id": "olmeNsx1MdxN"
      },
      "execution_count": 556,
      "outputs": []
    },
    {
      "cell_type": "code",
      "source": [
        ""
      ],
      "metadata": {
        "id": "72unUlI2L_mI"
      },
      "execution_count": 556,
      "outputs": []
    },
    {
      "cell_type": "code",
      "source": [
        ""
      ],
      "metadata": {
        "id": "tjl493uFL_jz"
      },
      "execution_count": 556,
      "outputs": []
    },
    {
      "cell_type": "code",
      "source": [
        ""
      ],
      "metadata": {
        "id": "pep6czjRL_hN"
      },
      "execution_count": 556,
      "outputs": []
    }
  ]
}